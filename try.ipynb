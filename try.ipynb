{
 "metadata": {
  "language_info": {
   "codemirror_mode": {
    "name": "ipython",
    "version": 3
   },
   "file_extension": ".py",
   "mimetype": "text/x-python",
   "name": "python",
   "nbconvert_exporter": "python",
   "pygments_lexer": "ipython3",
   "version": "3.6.8-final"
  },
  "orig_nbformat": 2,
  "kernelspec": {
   "name": "python3",
   "display_name": "Python 3",
   "language": "python"
  }
 },
 "nbformat": 4,
 "nbformat_minor": 2,
 "cells": [
  {
   "cell_type": "code",
   "execution_count": 1,
   "metadata": {},
   "outputs": [
    {
     "output_type": "stream",
     "name": "stdout",
     "text": [
      "(512, 512)\n(512, 512, 3)\n(512, 512, 3)\n"
     ]
    }
   ],
   "source": [
    "import cv2\n",
    "\n",
    "# 灰階模式(單通道)\n",
    "img = cv2.imread('photo_video/lena.jpg', 0)\n",
    "print(img.shape)\n",
    "# (512, 512)\n",
    "\n",
    "# 彩色(三通道) -> 預設\n",
    "img2 = cv2.imread('photo_video/lena.jpg', 1)\n",
    "print(img2.shape)\n",
    "# (512, 512, 3)\n",
    "\n",
    "# 彩色(透過解碼)\n",
    "img3 = cv2.imread('photo_video/lena.jpg', -1)\n",
    "print(img3.shape)\n",
    "# (512, 512, 3)\n",
    "\n",
    "cv2.imshow('photo_video/lena image', img)\n",
    "cv2.waitKey(0)\n",
    "cv2.destroyAllWindows()\n",
    "\n",
    "cv2.imwrite('photo_video/lena_copy.png', img)"
   ]
  },
  {
   "cell_type": "code",
   "execution_count": 5,
   "metadata": {},
   "outputs": [
    {
     "output_type": "stream",
     "name": "stdout",
     "text": [
      "237 , 226\n",
      "363 , 84\n",
      "121 , 76\n",
      "34 , 39\n",
      "439 , 338\n",
      "384 , 393\n",
      "416 , 227\n",
      "206 , 347\n",
      "252 , 35\n",
      "143 , 181\n",
      "104 , 209\n",
      "60 , 147\n",
      "355 , 124\n",
      "368 , 182\n",
      "357 , 273\n",
      "345 , 314\n",
      "345 , 314\n",
      "229 , 422\n",
      "95 , 400\n",
      "149 , 426\n",
      "412 , 458\n",
      "237 , 147\n"
     ]
    },
    {
     "output_type": "execute_result",
     "data": {
      "text/plain": [
       "<function destroyAllWindows>"
      ]
     },
     "metadata": {},
     "execution_count": 5
    }
   ],
   "source": [
    "import cv2\n",
    "\n",
    "def click_event(event, x, y, flags, param):\n",
    "    if event == cv2.EVENT_LBUTTONDBLCLK:\n",
    "        print(x, ',', y)\n",
    "        font = cv2.FONT_HERSHEY_SIMPLEX\n",
    "        text = str(x) + ',' + str(y)\n",
    "        cv2.putText(img, text, (x, y), font, 0.5, (255 ,255 ,0), 2, cv2.LINE_AA)\n",
    "        cv2.imshow('photo_video/image', img)\n",
    "\n",
    "    if event == cv2.EVENT_RBUTTONDBLCLK:\n",
    "        blue = img[y, x, 0]\n",
    "        green = img[y, x, 1]\n",
    "        red = img[y, x, 2]\n",
    "        font = cv2.FONT_HERSHEY_SIMPLEX\n",
    "        text = str(blue) + ',' + str(green) + ',' + str(red)\n",
    "        cv2.putText(img, text, (x, y), font, 0.5, (0 ,255 ,255), 2, cv2.LINE_AA)\n",
    "        cv2.imshow('photo_video/image', img)\n",
    "\n",
    "img = cv2.imread('photo_video/lena.jpg')\n",
    "cv2.imshow('photo_video/image', img)\n",
    "\n",
    "cv2.setMouseCallback('photo_video/image', click_event)\n",
    "\n",
    "cv2.waitKey(0)\n",
    "cv2.destroyAllWindows"
   ]
  },
  {
   "cell_type": "code",
   "execution_count": 7,
   "metadata": {},
   "outputs": [
    {
     "output_type": "execute_result",
     "data": {
      "text/plain": [
       "<function destroyAllWindows>"
      ]
     },
     "metadata": {},
     "execution_count": 7
    }
   ],
   "source": [
    "import cv2\n",
    "import numpy as np\n",
    "\n",
    "def click_event(event, x, y, flags, param):\n",
    "    if event == cv2.EVENT_LBUTTONDBLCLK:\n",
    "        cv2.circle(img, (x, y), 3, (0, 0, 255), -1)\n",
    "        points.append((x,y))\n",
    "        if len(points) >= 2:\n",
    "            cv2.line(img, points[-2], points[-1], (255, 0, 0), 5)\n",
    "        cv2.imshow('photo_vodeo/image', img)\n",
    "\n",
    "img = np.zeros((512, 512, 3), np.uint8)\n",
    "cv2.imshow('photo_vodeo/image', img)\n",
    "points = []\n",
    "\n",
    "cv2.setMouseCallback('photo_vodeo/image', click_event)\n",
    "\n",
    "cv2.waitKey(0)\n",
    "cv2.destroyAllWindows"
   ]
  },
  {
   "cell_type": "code",
   "execution_count": null,
   "metadata": {},
   "outputs": [],
   "source": []
  }
 ]
}