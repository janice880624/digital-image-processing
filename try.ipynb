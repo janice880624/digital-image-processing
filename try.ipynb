{
 "metadata": {
  "language_info": {
   "codemirror_mode": {
    "name": "ipython",
    "version": 3
   },
   "file_extension": ".py",
   "mimetype": "text/x-python",
   "name": "python",
   "nbconvert_exporter": "python",
   "pygments_lexer": "ipython3",
   "version": "3.7.0-final"
  },
  "orig_nbformat": 2,
  "kernelspec": {
   "name": "python3",
   "display_name": "Python 3.7.0 64-bit",
   "metadata": {
    "interpreter": {
     "hash": "e093a4a7b71d6c2e6880fd70e587947ff82f47f46724201819cd610af8b2f7cf"
    }
   }
  }
 },
 "nbformat": 4,
 "nbformat_minor": 2,
 "cells": [
  {
   "cell_type": "code",
   "execution_count": 1,
   "metadata": {},
   "outputs": [
    {
     "output_type": "stream",
     "name": "stdout",
     "text": [
      "(512, 512)\n(512, 512, 3)\n(512, 512, 3)\n"
     ]
    },
    {
     "output_type": "execute_result",
     "data": {
      "text/plain": [
       "True"
      ]
     },
     "metadata": {},
     "execution_count": 1
    }
   ],
   "source": [
    "import cv2\n",
    "\n",
    "# 灰階模式(單通道)\n",
    "img = cv2.imread('photo_video/lena.jpg', 0)\n",
    "print(img.shape)\n",
    "# (512, 512)\n",
    "\n",
    "# 彩色(三通道) -> 預設\n",
    "img2 = cv2.imread('photo_video/lena.jpg', 1)\n",
    "print(img2.shape)\n",
    "# (512, 512, 3)\n",
    "\n",
    "# 彩色(透過解碼)\n",
    "img3 = cv2.imread('photo_video/lena.jpg', -1)\n",
    "print(img3.shape)\n",
    "# (512, 512, 3)\n",
    "\n",
    "cv2.imshow('photo_video/lena image', img)\n",
    "cv2.waitKey(0)\n",
    "cv2.destroyAllWindows()\n",
    "\n",
    "cv2.imwrite('photo_video/lena_copy.png', img)"
   ]
  },
  {
   "cell_type": "code",
   "execution_count": null,
   "metadata": {},
   "outputs": [],
   "source": []
  }
 ]
}